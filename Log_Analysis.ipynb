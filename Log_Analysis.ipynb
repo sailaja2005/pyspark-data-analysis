{
  "nbformat": 4,
  "nbformat_minor": 0,
  "metadata": {
    "colab": {
      "provenance": []
    },
    "kernelspec": {
      "name": "python3",
      "display_name": "Python 3"
    },
    "language_info": {
      "name": "python"
    }
  },
  "cells": [
    {
      "cell_type": "code",
      "source": [
        "import os\n",
        "import json\n",
        "import random\n",
        "from datetime import datetime, timedelta\n",
        "from pyspark.sql import SparkSession\n",
        "from pyspark.sql.types import TimestampType\n",
        "import pyspark.sql.functions as F\n",
        "\n",
        "spark = SparkSession.builder.appName(\"Log Analysis\").getOrCreate()"
      ],
      "metadata": {
        "id": "SwDdcqUU1H2K"
      },
      "execution_count": 1,
      "outputs": []
    },
    {
      "cell_type": "code",
      "source": [
        "log_data = {\n",
        "    \"INFO\": [\"User logged in\", \"New user registered\", \"Data successfully processed\"],\n",
        "    \"ERROR\": [\"Page not found\", \"Database connection lost\", \"File not found\"],\n",
        "    \"WARNING\": [\"High memory usage detected\", \"Slow API response\", \"Deprecated function used\"],\n",
        "    \"DEBUG\": [\"Function X executed\", \"Cache cleared\", \"Config file loaded\"],\n",
        "    \"CRITICAL\": [\"System out of memory! Shutting down\", \"Power failure detected\"],\n",
        "    \"FATAL\": [\"Kernel panic\", \"Unrecoverable database corruption\"],\n",
        "    \"TRACE\": [\"Entering function process_data()\", \"Exiting function process_data()\"],\n",
        "    \"SECURITY\": [\"Unauthorized login attempt\", \"Suspicious IP detected\"],\n",
        "    \"ACCOUNT\": [\"User X changed password\", \"Account settings updated\"]\n",
        "}\n",
        "\n",
        "json_file = os.path.join(os.getcwd(), \"log_messages.json\")\n",
        "with open(json_file, \"w\") as f:\n",
        "    json.dump(log_data, f, indent=4)\n",
        "\n",
        "log_levels = \"|\".join(log_data.keys())"
      ],
      "metadata": {
        "id": "ZcC9-3Rv2IRx"
      },
      "execution_count": 2,
      "outputs": []
    },
    {
      "cell_type": "code",
      "source": [
        "def generate_log_entry():\n",
        "    log_level = random.choice(list(log_data.keys()))\n",
        "    log_message = random.choice(log_data[log_level]).strip()\n",
        "    timestamp = (datetime.now() - timedelta(days=random.randint(0, 30))).strftime(\"%Y-%m-%d %H:%M:%S\")\n",
        "    return f\"{timestamp} {log_level} {log_message}\"\n",
        "\n",
        "log_file = os.path.join(os.getcwd(), \"log_file.txt\")\n",
        "num_entries = 100000\n",
        "with open(log_file, \"w\") as f:\n",
        "    for _ in range(num_entries):\n",
        "        f.write(generate_log_entry() + \"\\n\")"
      ],
      "metadata": {
        "id": "VijaOIP32Q1r"
      },
      "execution_count": 3,
      "outputs": []
    },
    {
      "cell_type": "code",
      "source": [
        "log_df = spark.read.text(log_file)\n",
        "log_df = log_df.withColumn(\"Timestamp\", F.regexp_extract(F.col(\"value\"), r\"^(\\d{4}-\\d{2}-\\d{2} \\d{2}:\\d{2}:\\d{2})\", 1))\n",
        "log_df = log_df.withColumn(\"LogLevel\", F.regexp_extract(F.col(\"value\"), rf\"\\b({log_levels})\\b\", 1))\n",
        "log_df = log_df.withColumn(\"Message\", F.trim(F.regexp_extract(F.col(\"value\"), rf\"\\b(?:{log_levels})\\b (.*)\", 1)))\n",
        "\n",
        "log_df = log_df.drop(\"value\").na.drop()\n",
        "log_df = log_df.withColumn(\"Timestamp\", F.col(\"Timestamp\").cast(TimestampType()))\n",
        "\n",
        "log_df.show(10, truncate=False)"
      ],
      "metadata": {
        "colab": {
          "base_uri": "https://localhost:8080/"
        },
        "id": "k553iX7T2XHd",
        "outputId": "b6050778-4415-4af8-9570-5874b350d205"
      },
      "execution_count": 6,
      "outputs": [
        {
          "output_type": "stream",
          "name": "stdout",
          "text": [
            "+-------------------+--------+--------------------------+\n",
            "|Timestamp          |LogLevel|Message                   |\n",
            "+-------------------+--------+--------------------------+\n",
            "|2025-02-17 09:04:36|FATAL   |Kernel panic              |\n",
            "|2025-03-07 09:04:36|INFO    |New user registered       |\n",
            "|2025-02-06 09:04:36|ERROR   |Page not found            |\n",
            "|2025-02-13 09:04:36|SECURITY|Suspicious IP detected    |\n",
            "|2025-03-06 09:04:36|ERROR   |File not found            |\n",
            "|2025-02-26 09:04:36|SECURITY|Unauthorized login attempt|\n",
            "|2025-03-05 09:04:36|SECURITY|Suspicious IP detected    |\n",
            "|2025-02-13 09:04:36|CRITICAL|Power failure detected    |\n",
            "|2025-02-11 09:04:36|ERROR   |Page not found            |\n",
            "|2025-03-01 09:04:36|ACCOUNT |Account settings updated  |\n",
            "+-------------------+--------+--------------------------+\n",
            "only showing top 10 rows\n",
            "\n"
          ]
        }
      ]
    },
    {
      "cell_type": "code",
      "source": [
        "df_count = log_df.groupBy(\"LogLevel\").agg(F.count(\"LogLevel\").alias(\"Count\"))\n",
        "df_count.show()\n"
      ],
      "metadata": {
        "colab": {
          "base_uri": "https://localhost:8080/"
        },
        "id": "LSr_TWNi2ccE",
        "outputId": "4881a8f2-3241-46e8-df1b-828190734138"
      },
      "execution_count": 7,
      "outputs": [
        {
          "output_type": "stream",
          "name": "stdout",
          "text": [
            "+--------+-----+\n",
            "|LogLevel|Count|\n",
            "+--------+-----+\n",
            "|    INFO|11204|\n",
            "| ACCOUNT|10925|\n",
            "|   ERROR|11317|\n",
            "| WARNING|10912|\n",
            "|   FATAL|11132|\n",
            "|   DEBUG|11166|\n",
            "|   TRACE|11111|\n",
            "|CRITICAL|11144|\n",
            "|SECURITY|11089|\n",
            "+--------+-----+\n",
            "\n"
          ]
        }
      ]
    },
    {
      "cell_type": "code",
      "source": [
        "error_logs = log_df.where(F.col(\"LogLevel\") == \"ERROR\")\n",
        "error_logs.show(10, truncate=False)\n"
      ],
      "metadata": {
        "colab": {
          "base_uri": "https://localhost:8080/"
        },
        "id": "O6v9vIum20s2",
        "outputId": "604605c2-3bde-4baf-ae64-547c26d717c4"
      },
      "execution_count": 8,
      "outputs": [
        {
          "output_type": "stream",
          "name": "stdout",
          "text": [
            "+-------------------+--------+------------------------+\n",
            "|Timestamp          |LogLevel|Message                 |\n",
            "+-------------------+--------+------------------------+\n",
            "|2025-02-06 09:04:36|ERROR   |Page not found          |\n",
            "|2025-03-06 09:04:36|ERROR   |File not found          |\n",
            "|2025-02-11 09:04:36|ERROR   |Page not found          |\n",
            "|2025-02-08 09:04:36|ERROR   |Database connection lost|\n",
            "|2025-02-12 09:04:36|ERROR   |Page not found          |\n",
            "|2025-03-06 09:04:36|ERROR   |File not found          |\n",
            "|2025-03-04 09:04:36|ERROR   |Database connection lost|\n",
            "|2025-02-11 09:04:36|ERROR   |Page not found          |\n",
            "|2025-02-06 09:04:36|ERROR   |Page not found          |\n",
            "|2025-02-09 09:04:36|ERROR   |Database connection lost|\n",
            "+-------------------+--------+------------------------+\n",
            "only showing top 10 rows\n",
            "\n"
          ]
        }
      ]
    },
    {
      "cell_type": "code",
      "source": [
        "logs_by_hour = log_df.withColumn(\"Hour\", F.hour(\"Timestamp\")).groupBy(\"Hour\").count().orderBy(\"Hour\")\n",
        "logs_by_hour.show()\n"
      ],
      "metadata": {
        "colab": {
          "base_uri": "https://localhost:8080/"
        },
        "id": "Igm6id0z23sZ",
        "outputId": "337cd7db-0eb4-4d86-c80b-3a11ec91ae8b"
      },
      "execution_count": 9,
      "outputs": [
        {
          "output_type": "stream",
          "name": "stdout",
          "text": [
            "+----+------+\n",
            "|Hour| count|\n",
            "+----+------+\n",
            "|   9|100000|\n",
            "+----+------+\n",
            "\n"
          ]
        }
      ]
    },
    {
      "cell_type": "code",
      "source": [],
      "metadata": {
        "id": "k5EYqqoY26oh"
      },
      "execution_count": null,
      "outputs": []
    }
  ]
}