{
  "nbformat": 4,
  "nbformat_minor": 0,
  "metadata": {
    "colab": {
      "provenance": []
    },
    "kernelspec": {
      "name": "python3",
      "display_name": "Python 3"
    },
    "language_info": {
      "name": "python"
    }
  },
  "cells": [
    {
      "cell_type": "code",
      "source": [
        "import os\n",
        "import json\n",
        "import random\n",
        "from datetime import datetime, timedelta\n",
        "from pyspark.sql import SparkSession\n",
        "from pyspark.sql.types import TimestampType\n",
        "import pyspark.sql.functions as F\n",
        "\n",
        "spark = SparkSession.builder.appName(\"Log Analysis\").getOrCreate()"
      ],
      "metadata": {
        "id": "SwDdcqUU1H2K"
      },
      "execution_count": 1,
      "outputs": []
    },
    {
      "cell_type": "code",
      "source": [
        "log_data = {\n",
        "    \"INFO\": [\"User logged in\", \"New user registered\", \"Data successfully processed\"],\n",
        "    \"ERROR\": [\"Page not found\", \"Database connection lost\", \"File not found\"],\n",
        "    \"WARNING\": [\"High memory usage detected\", \"Slow API response\", \"Deprecated function used\"],\n",
        "    \"DEBUG\": [\"Function X executed\", \"Cache cleared\", \"Config file loaded\"],\n",
        "    \"CRITICAL\": [\"System out of memory! Shutting down\", \"Power failure detected\"],\n",
        "    \"FATAL\": [\"Kernel panic\", \"Unrecoverable database corruption\"],\n",
        "    \"TRACE\": [\"Entering function process_data()\", \"Exiting function process_data()\"],\n",
        "    \"SECURITY\": [\"Unauthorized login attempt\", \"Suspicious IP detected\"],\n",
        "    \"ACCOUNT\": [\"User X changed password\", \"Account settings updated\"]\n",
        "}\n",
        "\n",
        "json_file = os.path.join(os.getcwd(), \"log_messages.json\")\n",
        "with open(json_file, \"w\") as f:\n",
        "    json.dump(log_data, f, indent=4)\n",
        "\n",
        "log_levels = \"|\".join(log_data.keys())"
      ],
      "metadata": {
        "id": "ZcC9-3Rv2IRx"
      },
      "execution_count": 2,
      "outputs": []
    },
    {
      "cell_type": "code",
      "source": [
        "def generate_log_entry():\n",
        "    log_level = random.choice(list(log_data.keys()))\n",
        "    log_message = random.choice(log_data[log_level]).strip()\n",
        "    timestamp = datetime.now() - timedelta(days=random.randint(0, 30), hours=random.randint(0, 23), minutes=random.randint(0, 59))\n",
        "    return f\"{timestamp} {log_level} {log_message}\"\n",
        "\n",
        "log_file = os.path.join(os.getcwd(), \"log_file.txt\")\n",
        "num_entries = 100000\n",
        "with open(log_file, \"w\") as f:\n",
        "    for _ in range(num_entries):\n",
        "        f.write(generate_log_entry() + \"\\n\")"
      ],
      "metadata": {
        "id": "VijaOIP32Q1r"
      },
      "execution_count": 4,
      "outputs": []
    },
    {
      "cell_type": "code",
      "source": [
        "log_df = spark.read.text(log_file)\n",
        "log_df = log_df.withColumn(\"Timestamp\", F.regexp_extract(F.col(\"value\"), r\"^(\\d{4}-\\d{2}-\\d{2} \\d{2}:\\d{2}:\\d{2})\", 1))\n",
        "log_df = log_df.withColumn(\"LogLevel\", F.regexp_extract(F.col(\"value\"), rf\"\\b({log_levels})\\b\", 1))\n",
        "log_df = log_df.withColumn(\"Message\", F.trim(F.regexp_extract(F.col(\"value\"), rf\"\\b(?:{log_levels})\\b (.*)\", 1)))\n",
        "\n",
        "log_df = log_df.drop(\"value\").na.drop()\n",
        "log_df = log_df.withColumn(\"Timestamp\", F.col(\"Timestamp\").cast(TimestampType()))\n",
        "\n",
        "log_df.show(10, truncate=False)"
      ],
      "metadata": {
        "colab": {
          "base_uri": "https://localhost:8080/"
        },
        "id": "k553iX7T2XHd",
        "outputId": "6942a0ec-618b-48d0-a35c-93794be41fb5"
      },
      "execution_count": 5,
      "outputs": [
        {
          "output_type": "stream",
          "name": "stdout",
          "text": [
            "+-------------------+--------+---------------------------------+\n",
            "|Timestamp          |LogLevel|Message                          |\n",
            "+-------------------+--------+---------------------------------+\n",
            "|2025-02-14 01:31:21|TRACE   |Entering function process_data() |\n",
            "|2025-02-13 04:51:21|TRACE   |Exiting function process_data()  |\n",
            "|2025-03-09 08:49:21|ERROR   |Database connection lost         |\n",
            "|2025-02-21 22:15:21|TRACE   |Exiting function process_data()  |\n",
            "|2025-02-23 03:41:21|INFO    |Data successfully processed      |\n",
            "|2025-02-22 13:19:21|WARNING |Deprecated function used         |\n",
            "|2025-03-01 17:25:21|FATAL   |Unrecoverable database corruption|\n",
            "|2025-03-07 23:02:21|CRITICAL|Power failure detected           |\n",
            "|2025-02-16 23:50:21|WARNING |High memory usage detected       |\n",
            "|2025-03-05 05:05:21|WARNING |High memory usage detected       |\n",
            "+-------------------+--------+---------------------------------+\n",
            "only showing top 10 rows\n",
            "\n"
          ]
        }
      ]
    },
    {
      "cell_type": "code",
      "source": [
        "df_count = log_df.groupBy(\"LogLevel\").agg(F.count(\"LogLevel\").alias(\"Count\"))\n",
        "df_count.show()\n"
      ],
      "metadata": {
        "colab": {
          "base_uri": "https://localhost:8080/"
        },
        "id": "LSr_TWNi2ccE",
        "outputId": "d844ae8e-042a-4960-b9bd-17bc9dddcef0"
      },
      "execution_count": 6,
      "outputs": [
        {
          "output_type": "stream",
          "name": "stdout",
          "text": [
            "+--------+-----+\n",
            "|LogLevel|Count|\n",
            "+--------+-----+\n",
            "|    INFO|10887|\n",
            "| ACCOUNT|11063|\n",
            "|   ERROR|11275|\n",
            "| WARNING|10970|\n",
            "|   FATAL|11106|\n",
            "|   DEBUG|11109|\n",
            "|   TRACE|11343|\n",
            "|CRITICAL|11112|\n",
            "|SECURITY|11135|\n",
            "+--------+-----+\n",
            "\n"
          ]
        }
      ]
    },
    {
      "cell_type": "code",
      "source": [
        "error_logs = log_df.where(F.col(\"LogLevel\") == \"ERROR\")\n",
        "error_logs.show(10, truncate=False)\n"
      ],
      "metadata": {
        "colab": {
          "base_uri": "https://localhost:8080/"
        },
        "id": "O6v9vIum20s2",
        "outputId": "c93466c7-4fc2-45ca-9661-d6e3f4dca8c6"
      },
      "execution_count": 7,
      "outputs": [
        {
          "output_type": "stream",
          "name": "stdout",
          "text": [
            "+-------------------+--------+------------------------+\n",
            "|Timestamp          |LogLevel|Message                 |\n",
            "+-------------------+--------+------------------------+\n",
            "|2025-03-09 08:49:21|ERROR   |Database connection lost|\n",
            "|2025-02-07 15:08:21|ERROR   |Database connection lost|\n",
            "|2025-03-02 22:14:21|ERROR   |Database connection lost|\n",
            "|2025-02-27 05:42:21|ERROR   |Database connection lost|\n",
            "|2025-02-14 14:17:21|ERROR   |File not found          |\n",
            "|2025-02-22 18:02:21|ERROR   |Page not found          |\n",
            "|2025-02-24 01:30:21|ERROR   |Database connection lost|\n",
            "|2025-02-10 20:56:21|ERROR   |Database connection lost|\n",
            "|2025-02-13 07:00:21|ERROR   |Database connection lost|\n",
            "|2025-02-06 23:22:21|ERROR   |File not found          |\n",
            "+-------------------+--------+------------------------+\n",
            "only showing top 10 rows\n",
            "\n"
          ]
        }
      ]
    },
    {
      "cell_type": "code",
      "source": [
        "logs_by_hour = log_df.withColumn(\"Hour\", F.hour(\"Timestamp\")).groupBy(\"Hour\").count().orderBy(\"Hour\")\n",
        "logs_by_hour.show()\n"
      ],
      "metadata": {
        "colab": {
          "base_uri": "https://localhost:8080/"
        },
        "id": "Igm6id0z23sZ",
        "outputId": "9046b3af-155c-4dd8-ad8a-b188d5418e0f"
      },
      "execution_count": 8,
      "outputs": [
        {
          "output_type": "stream",
          "name": "stdout",
          "text": [
            "+----+-----+\n",
            "|Hour|count|\n",
            "+----+-----+\n",
            "|   0| 4112|\n",
            "|   1| 4169|\n",
            "|   2| 4209|\n",
            "|   3| 4164|\n",
            "|   4| 4141|\n",
            "|   5| 4212|\n",
            "|   6| 4218|\n",
            "|   7| 4194|\n",
            "|   8| 4256|\n",
            "|   9| 4169|\n",
            "|  10| 4123|\n",
            "|  11| 4104|\n",
            "|  12| 4166|\n",
            "|  13| 4211|\n",
            "|  14| 4193|\n",
            "|  15| 4153|\n",
            "|  16| 4145|\n",
            "|  17| 4081|\n",
            "|  18| 4176|\n",
            "|  19| 4184|\n",
            "+----+-----+\n",
            "only showing top 20 rows\n",
            "\n"
          ]
        }
      ]
    },
    {
      "cell_type": "code",
      "source": [],
      "metadata": {
        "id": "k5EYqqoY26oh"
      },
      "execution_count": 8,
      "outputs": []
    }
  ]
}